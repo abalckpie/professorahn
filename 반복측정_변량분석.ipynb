{
  "nbformat": 4,
  "nbformat_minor": 0,
  "metadata": {
    "colab": {
      "provenance": [],
      "authorship_tag": "ABX9TyP34fqdC+uLPi7K9zpK4PeR",
      "include_colab_link": true
    },
    "kernelspec": {
      "name": "python3",
      "display_name": "Python 3"
    },
    "language_info": {
      "name": "python"
    }
  },
  "cells": [
    {
      "cell_type": "markdown",
      "metadata": {
        "id": "view-in-github",
        "colab_type": "text"
      },
      "source": [
        "<a href=\"https://colab.research.google.com/github/abalckpie/professorahn/blob/main/%EB%B0%98%EB%B3%B5%EC%B8%A1%EC%A0%95_%EB%B3%80%EB%9F%89%EB%B6%84%EC%84%9D.ipynb\" target=\"_parent\"><img src=\"https://colab.research.google.com/assets/colab-badge.svg\" alt=\"Open In Colab\"/></a>"
      ]
    },
    {
      "cell_type": "markdown",
      "source": [
        "1. 필요한 라이브러리 설치"
      ],
      "metadata": {
        "id": "M_5RGb7we5_O"
      }
    },
    {
      "cell_type": "code",
      "execution_count": 1,
      "metadata": {
        "id": "LQXSfYWndAMT"
      },
      "outputs": [],
      "source": [
        "import pandas as pd\n",
        "import statsmodels.api as sm\n",
        "from statsmodels.formula.api import ols\n",
        "from statsmodels.stats.anova import AnovaRM"
      ]
    },
    {
      "cell_type": "markdown",
      "source": [
        "2. 데이터 준비"
      ],
      "metadata": {
        "id": "MejUq3xre7-E"
      }
    },
    {
      "cell_type": "code",
      "source": [
        "csv_test = pd.read_csv('/content/2022_2022년 지능정보사회 이용자 패널 조사_Data(가중치포함).csv')\n",
        "data = csv_test.copy()\n",
        "columns_of_interest = ['Age_group'] + [f'Q30_{i}' for i in range(1, 25)]\n",
        "subset_data = data[columns_of_interest]"
      ],
      "metadata": {
        "id": "8ZNNn5HydObH"
      },
      "execution_count": 3,
      "outputs": []
    },
    {
      "cell_type": "markdown",
      "source": [
        "3. 그룹별 평균 계산"
      ],
      "metadata": {
        "id": "0S-SX1eie-PH"
      }
    },
    {
      "cell_type": "code",
      "source": [
        "subset_data['생활활용'] = subset_data[[f'Q30_{i}' for i in range(1, 7)]].mean(axis=1)\n",
        "subset_data['권리보호'] = subset_data[[f'Q30_{i}' for i in range(7, 12)]].mean(axis=1)\n",
        "subset_data['비판적 이해'] = subset_data[[f'Q30_{i}' for i in range(12, 16)]].mean(axis=1)\n",
        "subset_data['생산과 공유'] = subset_data[[f'Q30_{i}' for i in range(16, 19)]].mean(axis=1)\n",
        "subset_data['사회 참여'] = subset_data[[f'Q30_{i}' for i in range(19, 22)]].mean(axis=1)\n",
        "subset_data['보안'] = subset_data[[f'Q30_{i}' for i in range(22, 25)]].mean(axis=1)"
      ],
      "metadata": {
        "colab": {
          "base_uri": "https://localhost:8080/"
        },
        "id": "IgoBqa_QeJ9N",
        "outputId": "2d32933a-3970-43b1-a349-5cdc6d39036f"
      },
      "execution_count": 4,
      "outputs": [
        {
          "output_type": "stream",
          "name": "stderr",
          "text": [
            "<ipython-input-4-50d5c1a80b22>:1: SettingWithCopyWarning: \n",
            "A value is trying to be set on a copy of a slice from a DataFrame.\n",
            "Try using .loc[row_indexer,col_indexer] = value instead\n",
            "\n",
            "See the caveats in the documentation: https://pandas.pydata.org/pandas-docs/stable/user_guide/indexing.html#returning-a-view-versus-a-copy\n",
            "  subset_data['생활활용'] = subset_data[[f'Q30_{i}' for i in range(1, 7)]].mean(axis=1)\n",
            "<ipython-input-4-50d5c1a80b22>:2: SettingWithCopyWarning: \n",
            "A value is trying to be set on a copy of a slice from a DataFrame.\n",
            "Try using .loc[row_indexer,col_indexer] = value instead\n",
            "\n",
            "See the caveats in the documentation: https://pandas.pydata.org/pandas-docs/stable/user_guide/indexing.html#returning-a-view-versus-a-copy\n",
            "  subset_data['권리보호'] = subset_data[[f'Q30_{i}' for i in range(7, 12)]].mean(axis=1)\n",
            "<ipython-input-4-50d5c1a80b22>:3: SettingWithCopyWarning: \n",
            "A value is trying to be set on a copy of a slice from a DataFrame.\n",
            "Try using .loc[row_indexer,col_indexer] = value instead\n",
            "\n",
            "See the caveats in the documentation: https://pandas.pydata.org/pandas-docs/stable/user_guide/indexing.html#returning-a-view-versus-a-copy\n",
            "  subset_data['비판적 이해'] = subset_data[[f'Q30_{i}' for i in range(12, 16)]].mean(axis=1)\n",
            "<ipython-input-4-50d5c1a80b22>:4: SettingWithCopyWarning: \n",
            "A value is trying to be set on a copy of a slice from a DataFrame.\n",
            "Try using .loc[row_indexer,col_indexer] = value instead\n",
            "\n",
            "See the caveats in the documentation: https://pandas.pydata.org/pandas-docs/stable/user_guide/indexing.html#returning-a-view-versus-a-copy\n",
            "  subset_data['생산과 공유'] = subset_data[[f'Q30_{i}' for i in range(16, 19)]].mean(axis=1)\n",
            "<ipython-input-4-50d5c1a80b22>:5: SettingWithCopyWarning: \n",
            "A value is trying to be set on a copy of a slice from a DataFrame.\n",
            "Try using .loc[row_indexer,col_indexer] = value instead\n",
            "\n",
            "See the caveats in the documentation: https://pandas.pydata.org/pandas-docs/stable/user_guide/indexing.html#returning-a-view-versus-a-copy\n",
            "  subset_data['사회 참여'] = subset_data[[f'Q30_{i}' for i in range(19, 22)]].mean(axis=1)\n",
            "<ipython-input-4-50d5c1a80b22>:6: SettingWithCopyWarning: \n",
            "A value is trying to be set on a copy of a slice from a DataFrame.\n",
            "Try using .loc[row_indexer,col_indexer] = value instead\n",
            "\n",
            "See the caveats in the documentation: https://pandas.pydata.org/pandas-docs/stable/user_guide/indexing.html#returning-a-view-versus-a-copy\n",
            "  subset_data['보안'] = subset_data[[f'Q30_{i}' for i in range(22, 25)]].mean(axis=1)\n"
          ]
        }
      ]
    },
    {
      "cell_type": "markdown",
      "source": [
        "4. 형식 변환(긴 형식, 범주형)"
      ],
      "metadata": {
        "id": "Z_tNKuTZfRQ_"
      }
    },
    {
      "cell_type": "code",
      "source": [
        "long_data = pd.melt(subset_data, id_vars=['Age_group'], value_vars=['생활활용', '권리보호', '비판적 이해', '생산과 공유', '사회 참여', '보안'],\n",
        "                    var_name='Factor', value_name='Response')"
      ],
      "metadata": {
        "id": "TFcH0LdAeOiK"
      },
      "execution_count": 5,
      "outputs": []
    },
    {
      "cell_type": "code",
      "source": [
        "long_data['Age_group'] = long_data['Age_group'].astype('category')"
      ],
      "metadata": {
        "id": "ADXMd4c-eVvE"
      },
      "execution_count": 6,
      "outputs": []
    },
    {
      "cell_type": "markdown",
      "source": [
        "5. 데이터 수동 집계(피험자와 요인별 평균 계산)"
      ],
      "metadata": {
        "id": "hInpeg9xfYMx"
      }
    },
    {
      "cell_type": "code",
      "source": [
        "agg_data = long_data.groupby(['Age_group', 'Factor']).mean().reset_index()"
      ],
      "metadata": {
        "id": "4cbz1G4OeX7e"
      },
      "execution_count": 8,
      "outputs": []
    },
    {
      "cell_type": "markdown",
      "source": [
        "6. 반복측정 변량분석 수행 및 결과"
      ],
      "metadata": {
        "id": "anE-LLqRfb3E"
      }
    },
    {
      "cell_type": "code",
      "source": [
        "aovrm = AnovaRM(agg_data, 'Response', 'Age_group', within=['Factor'])\n",
        "res = aovrm.fit()"
      ],
      "metadata": {
        "id": "RmpwoIxieuwB"
      },
      "execution_count": 9,
      "outputs": []
    },
    {
      "cell_type": "code",
      "source": [
        "print(res)"
      ],
      "metadata": {
        "colab": {
          "base_uri": "https://localhost:8080/"
        },
        "id": "VRKRrR4Dewfd",
        "outputId": "d08afd35-52e7-41e7-ccd4-18a61f442ed8"
      },
      "execution_count": 10,
      "outputs": [
        {
          "output_type": "stream",
          "name": "stdout",
          "text": [
            "               Anova\n",
            "====================================\n",
            "       F Value Num DF  Den DF Pr > F\n",
            "------------------------------------\n",
            "Factor 35.7822 5.0000 25.0000 0.0000\n",
            "====================================\n",
            "\n"
          ]
        }
      ]
    },
    {
      "cell_type": "markdown",
      "source": [
        "결과 해석 : F-value 값이 매우 크고(35.78) p-value가 0.0000으로 0.05보다 작기 때문에 6개 요인 간에 유의적인 차이가 있다."
      ],
      "metadata": {
        "id": "miBxUAUzf2Bb"
      }
    }
  ]
}