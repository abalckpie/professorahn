{
  "nbformat": 4,
  "nbformat_minor": 0,
  "metadata": {
    "colab": {
      "provenance": [],
      "authorship_tag": "ABX9TyMQi8JBxuoUgZG1wCieMPV8",
      "include_colab_link": true
    },
    "kernelspec": {
      "name": "python3",
      "display_name": "Python 3"
    },
    "language_info": {
      "name": "python"
    }
  },
  "cells": [
    {
      "cell_type": "markdown",
      "metadata": {
        "id": "view-in-github",
        "colab_type": "text"
      },
      "source": [
        "<a href=\"https://colab.research.google.com/github/abalckpie/professorahn/blob/main/%EC%9D%BC%EC%9B%90%EB%B6%84%EC%82%B0%EB%B6%84%EC%84%9D.ipynb\" target=\"_parent\"><img src=\"https://colab.research.google.com/assets/colab-badge.svg\" alt=\"Open In Colab\"/></a>"
      ]
    },
    {
      "cell_type": "markdown",
      "source": [
        "1. 데이터 불러오기"
      ],
      "metadata": {
        "id": "v38ihQEupYzj"
      }
    },
    {
      "cell_type": "code",
      "execution_count": 137,
      "metadata": {
        "id": "WJvl6hppk4sK"
      },
      "outputs": [],
      "source": [
        "import pandas as pd\n",
        "import numpy as np\n",
        "from scipy import stats\n",
        "from scipy.stats import f_oneway\n",
        "import urllib\n",
        "csv_test = pd.read_csv('/content/2022_2022년 지능정보사회 이용자 패널 조사_Data(가중치포함).csv')\n",
        "df = pd.DataFrame(csv_test)"
      ]
    },
    {
      "cell_type": "markdown",
      "source": [
        "2. Q30_1~Q30_6의 평균 구하기"
      ],
      "metadata": {
        "id": "DG6nPSYBpa_B"
      }
    },
    {
      "cell_type": "code",
      "source": [
        "df.columns\n",
        "df[['Q30_1', 'Q30_2', 'Q30_3', 'Q30_4', 'Q30_5', 'Q30_6']]\n",
        "df1 = df[['Q30_1', 'Q30_2', 'Q30_3', 'Q30_4', 'Q30_5', 'Q30_6']]\n",
        "df1 = np.mean(df1, axis=1)\n",
        "df1"
      ],
      "metadata": {
        "colab": {
          "base_uri": "https://localhost:8080/"
        },
        "id": "iUWmMRwPpVxE",
        "outputId": "5cdcd947-7c02-49ee-d97c-27d5727ebdc6"
      },
      "execution_count": 129,
      "outputs": [
        {
          "output_type": "execute_result",
          "data": {
            "text/plain": [
              "0       3.000000\n",
              "1       3.333333\n",
              "2       5.000000\n",
              "3       2.666667\n",
              "4       4.000000\n",
              "          ...   \n",
              "5373    3.833333\n",
              "5374    4.000000\n",
              "5375    4.000000\n",
              "5376    4.000000\n",
              "5377    3.833333\n",
              "Length: 5378, dtype: float64"
            ]
          },
          "metadata": {},
          "execution_count": 129
        }
      ]
    },
    {
      "cell_type": "markdown",
      "source": [
        "3. age_group 데이터와 합치기"
      ],
      "metadata": {
        "id": "cHPXxnd5s4UC"
      }
    },
    {
      "cell_type": "code",
      "source": [
        "agedata = df[['Age_group']]"
      ],
      "metadata": {
        "id": "9MttW8Yqs8oW"
      },
      "execution_count": 130,
      "outputs": []
    },
    {
      "cell_type": "code",
      "source": [
        "df1 = pd.concat([df1, agedata], axis=1)\n",
        "df1.columns = ['mean', 'Age_group']\n",
        "df1"
      ],
      "metadata": {
        "colab": {
          "base_uri": "https://localhost:8080/",
          "height": 424
        },
        "id": "J7h-q0P6rSRE",
        "outputId": "d5deaf3e-8762-465e-f9cc-5782a7a8498b"
      },
      "execution_count": 132,
      "outputs": [
        {
          "output_type": "execute_result",
          "data": {
            "text/plain": [
              "          mean  Age_group\n",
              "0     3.000000          6\n",
              "1     3.333333          5\n",
              "2     5.000000          5\n",
              "3     2.666667          2\n",
              "4     4.000000          4\n",
              "...        ...        ...\n",
              "5373  3.833333          1\n",
              "5374  4.000000          4\n",
              "5375  4.000000          1\n",
              "5376  4.000000          4\n",
              "5377  3.833333          1\n",
              "\n",
              "[5378 rows x 2 columns]"
            ],
            "text/html": [
              "\n",
              "  <div id=\"df-22af219f-d338-473c-abf2-cef413ab37df\" class=\"colab-df-container\">\n",
              "    <div>\n",
              "<style scoped>\n",
              "    .dataframe tbody tr th:only-of-type {\n",
              "        vertical-align: middle;\n",
              "    }\n",
              "\n",
              "    .dataframe tbody tr th {\n",
              "        vertical-align: top;\n",
              "    }\n",
              "\n",
              "    .dataframe thead th {\n",
              "        text-align: right;\n",
              "    }\n",
              "</style>\n",
              "<table border=\"1\" class=\"dataframe\">\n",
              "  <thead>\n",
              "    <tr style=\"text-align: right;\">\n",
              "      <th></th>\n",
              "      <th>mean</th>\n",
              "      <th>Age_group</th>\n",
              "    </tr>\n",
              "  </thead>\n",
              "  <tbody>\n",
              "    <tr>\n",
              "      <th>0</th>\n",
              "      <td>3.000000</td>\n",
              "      <td>6</td>\n",
              "    </tr>\n",
              "    <tr>\n",
              "      <th>1</th>\n",
              "      <td>3.333333</td>\n",
              "      <td>5</td>\n",
              "    </tr>\n",
              "    <tr>\n",
              "      <th>2</th>\n",
              "      <td>5.000000</td>\n",
              "      <td>5</td>\n",
              "    </tr>\n",
              "    <tr>\n",
              "      <th>3</th>\n",
              "      <td>2.666667</td>\n",
              "      <td>2</td>\n",
              "    </tr>\n",
              "    <tr>\n",
              "      <th>4</th>\n",
              "      <td>4.000000</td>\n",
              "      <td>4</td>\n",
              "    </tr>\n",
              "    <tr>\n",
              "      <th>...</th>\n",
              "      <td>...</td>\n",
              "      <td>...</td>\n",
              "    </tr>\n",
              "    <tr>\n",
              "      <th>5373</th>\n",
              "      <td>3.833333</td>\n",
              "      <td>1</td>\n",
              "    </tr>\n",
              "    <tr>\n",
              "      <th>5374</th>\n",
              "      <td>4.000000</td>\n",
              "      <td>4</td>\n",
              "    </tr>\n",
              "    <tr>\n",
              "      <th>5375</th>\n",
              "      <td>4.000000</td>\n",
              "      <td>1</td>\n",
              "    </tr>\n",
              "    <tr>\n",
              "      <th>5376</th>\n",
              "      <td>4.000000</td>\n",
              "      <td>4</td>\n",
              "    </tr>\n",
              "    <tr>\n",
              "      <th>5377</th>\n",
              "      <td>3.833333</td>\n",
              "      <td>1</td>\n",
              "    </tr>\n",
              "  </tbody>\n",
              "</table>\n",
              "<p>5378 rows × 2 columns</p>\n",
              "</div>\n",
              "    <div class=\"colab-df-buttons\">\n",
              "\n",
              "  <div class=\"colab-df-container\">\n",
              "    <button class=\"colab-df-convert\" onclick=\"convertToInteractive('df-22af219f-d338-473c-abf2-cef413ab37df')\"\n",
              "            title=\"Convert this dataframe to an interactive table.\"\n",
              "            style=\"display:none;\">\n",
              "\n",
              "  <svg xmlns=\"http://www.w3.org/2000/svg\" height=\"24px\" viewBox=\"0 -960 960 960\">\n",
              "    <path d=\"M120-120v-720h720v720H120Zm60-500h600v-160H180v160Zm220 220h160v-160H400v160Zm0 220h160v-160H400v160ZM180-400h160v-160H180v160Zm440 0h160v-160H620v160ZM180-180h160v-160H180v160Zm440 0h160v-160H620v160Z\"/>\n",
              "  </svg>\n",
              "    </button>\n",
              "\n",
              "  <style>\n",
              "    .colab-df-container {\n",
              "      display:flex;\n",
              "      gap: 12px;\n",
              "    }\n",
              "\n",
              "    .colab-df-convert {\n",
              "      background-color: #E8F0FE;\n",
              "      border: none;\n",
              "      border-radius: 50%;\n",
              "      cursor: pointer;\n",
              "      display: none;\n",
              "      fill: #1967D2;\n",
              "      height: 32px;\n",
              "      padding: 0 0 0 0;\n",
              "      width: 32px;\n",
              "    }\n",
              "\n",
              "    .colab-df-convert:hover {\n",
              "      background-color: #E2EBFA;\n",
              "      box-shadow: 0px 1px 2px rgba(60, 64, 67, 0.3), 0px 1px 3px 1px rgba(60, 64, 67, 0.15);\n",
              "      fill: #174EA6;\n",
              "    }\n",
              "\n",
              "    .colab-df-buttons div {\n",
              "      margin-bottom: 4px;\n",
              "    }\n",
              "\n",
              "    [theme=dark] .colab-df-convert {\n",
              "      background-color: #3B4455;\n",
              "      fill: #D2E3FC;\n",
              "    }\n",
              "\n",
              "    [theme=dark] .colab-df-convert:hover {\n",
              "      background-color: #434B5C;\n",
              "      box-shadow: 0px 1px 3px 1px rgba(0, 0, 0, 0.15);\n",
              "      filter: drop-shadow(0px 1px 2px rgba(0, 0, 0, 0.3));\n",
              "      fill: #FFFFFF;\n",
              "    }\n",
              "  </style>\n",
              "\n",
              "    <script>\n",
              "      const buttonEl =\n",
              "        document.querySelector('#df-22af219f-d338-473c-abf2-cef413ab37df button.colab-df-convert');\n",
              "      buttonEl.style.display =\n",
              "        google.colab.kernel.accessAllowed ? 'block' : 'none';\n",
              "\n",
              "      async function convertToInteractive(key) {\n",
              "        const element = document.querySelector('#df-22af219f-d338-473c-abf2-cef413ab37df');\n",
              "        const dataTable =\n",
              "          await google.colab.kernel.invokeFunction('convertToInteractive',\n",
              "                                                    [key], {});\n",
              "        if (!dataTable) return;\n",
              "\n",
              "        const docLinkHtml = 'Like what you see? Visit the ' +\n",
              "          '<a target=\"_blank\" href=https://colab.research.google.com/notebooks/data_table.ipynb>data table notebook</a>'\n",
              "          + ' to learn more about interactive tables.';\n",
              "        element.innerHTML = '';\n",
              "        dataTable['output_type'] = 'display_data';\n",
              "        await google.colab.output.renderOutput(dataTable, element);\n",
              "        const docLink = document.createElement('div');\n",
              "        docLink.innerHTML = docLinkHtml;\n",
              "        element.appendChild(docLink);\n",
              "      }\n",
              "    </script>\n",
              "  </div>\n",
              "\n",
              "\n",
              "<div id=\"df-cfd55439-ca52-42c3-aa2f-91408a209709\">\n",
              "  <button class=\"colab-df-quickchart\" onclick=\"quickchart('df-cfd55439-ca52-42c3-aa2f-91408a209709')\"\n",
              "            title=\"Suggest charts\"\n",
              "            style=\"display:none;\">\n",
              "\n",
              "<svg xmlns=\"http://www.w3.org/2000/svg\" height=\"24px\"viewBox=\"0 0 24 24\"\n",
              "     width=\"24px\">\n",
              "    <g>\n",
              "        <path d=\"M19 3H5c-1.1 0-2 .9-2 2v14c0 1.1.9 2 2 2h14c1.1 0 2-.9 2-2V5c0-1.1-.9-2-2-2zM9 17H7v-7h2v7zm4 0h-2V7h2v10zm4 0h-2v-4h2v4z\"/>\n",
              "    </g>\n",
              "</svg>\n",
              "  </button>\n",
              "\n",
              "<style>\n",
              "  .colab-df-quickchart {\n",
              "      --bg-color: #E8F0FE;\n",
              "      --fill-color: #1967D2;\n",
              "      --hover-bg-color: #E2EBFA;\n",
              "      --hover-fill-color: #174EA6;\n",
              "      --disabled-fill-color: #AAA;\n",
              "      --disabled-bg-color: #DDD;\n",
              "  }\n",
              "\n",
              "  [theme=dark] .colab-df-quickchart {\n",
              "      --bg-color: #3B4455;\n",
              "      --fill-color: #D2E3FC;\n",
              "      --hover-bg-color: #434B5C;\n",
              "      --hover-fill-color: #FFFFFF;\n",
              "      --disabled-bg-color: #3B4455;\n",
              "      --disabled-fill-color: #666;\n",
              "  }\n",
              "\n",
              "  .colab-df-quickchart {\n",
              "    background-color: var(--bg-color);\n",
              "    border: none;\n",
              "    border-radius: 50%;\n",
              "    cursor: pointer;\n",
              "    display: none;\n",
              "    fill: var(--fill-color);\n",
              "    height: 32px;\n",
              "    padding: 0;\n",
              "    width: 32px;\n",
              "  }\n",
              "\n",
              "  .colab-df-quickchart:hover {\n",
              "    background-color: var(--hover-bg-color);\n",
              "    box-shadow: 0 1px 2px rgba(60, 64, 67, 0.3), 0 1px 3px 1px rgba(60, 64, 67, 0.15);\n",
              "    fill: var(--button-hover-fill-color);\n",
              "  }\n",
              "\n",
              "  .colab-df-quickchart-complete:disabled,\n",
              "  .colab-df-quickchart-complete:disabled:hover {\n",
              "    background-color: var(--disabled-bg-color);\n",
              "    fill: var(--disabled-fill-color);\n",
              "    box-shadow: none;\n",
              "  }\n",
              "\n",
              "  .colab-df-spinner {\n",
              "    border: 2px solid var(--fill-color);\n",
              "    border-color: transparent;\n",
              "    border-bottom-color: var(--fill-color);\n",
              "    animation:\n",
              "      spin 1s steps(1) infinite;\n",
              "  }\n",
              "\n",
              "  @keyframes spin {\n",
              "    0% {\n",
              "      border-color: transparent;\n",
              "      border-bottom-color: var(--fill-color);\n",
              "      border-left-color: var(--fill-color);\n",
              "    }\n",
              "    20% {\n",
              "      border-color: transparent;\n",
              "      border-left-color: var(--fill-color);\n",
              "      border-top-color: var(--fill-color);\n",
              "    }\n",
              "    30% {\n",
              "      border-color: transparent;\n",
              "      border-left-color: var(--fill-color);\n",
              "      border-top-color: var(--fill-color);\n",
              "      border-right-color: var(--fill-color);\n",
              "    }\n",
              "    40% {\n",
              "      border-color: transparent;\n",
              "      border-right-color: var(--fill-color);\n",
              "      border-top-color: var(--fill-color);\n",
              "    }\n",
              "    60% {\n",
              "      border-color: transparent;\n",
              "      border-right-color: var(--fill-color);\n",
              "    }\n",
              "    80% {\n",
              "      border-color: transparent;\n",
              "      border-right-color: var(--fill-color);\n",
              "      border-bottom-color: var(--fill-color);\n",
              "    }\n",
              "    90% {\n",
              "      border-color: transparent;\n",
              "      border-bottom-color: var(--fill-color);\n",
              "    }\n",
              "  }\n",
              "</style>\n",
              "\n",
              "  <script>\n",
              "    async function quickchart(key) {\n",
              "      const quickchartButtonEl =\n",
              "        document.querySelector('#' + key + ' button');\n",
              "      quickchartButtonEl.disabled = true;  // To prevent multiple clicks.\n",
              "      quickchartButtonEl.classList.add('colab-df-spinner');\n",
              "      try {\n",
              "        const charts = await google.colab.kernel.invokeFunction(\n",
              "            'suggestCharts', [key], {});\n",
              "      } catch (error) {\n",
              "        console.error('Error during call to suggestCharts:', error);\n",
              "      }\n",
              "      quickchartButtonEl.classList.remove('colab-df-spinner');\n",
              "      quickchartButtonEl.classList.add('colab-df-quickchart-complete');\n",
              "    }\n",
              "    (() => {\n",
              "      let quickchartButtonEl =\n",
              "        document.querySelector('#df-cfd55439-ca52-42c3-aa2f-91408a209709 button');\n",
              "      quickchartButtonEl.style.display =\n",
              "        google.colab.kernel.accessAllowed ? 'block' : 'none';\n",
              "    })();\n",
              "  </script>\n",
              "</div>\n",
              "\n",
              "  <div id=\"id_2bae7427-2be5-4fd9-8c4d-30a73f77beee\">\n",
              "    <style>\n",
              "      .colab-df-generate {\n",
              "        background-color: #E8F0FE;\n",
              "        border: none;\n",
              "        border-radius: 50%;\n",
              "        cursor: pointer;\n",
              "        display: none;\n",
              "        fill: #1967D2;\n",
              "        height: 32px;\n",
              "        padding: 0 0 0 0;\n",
              "        width: 32px;\n",
              "      }\n",
              "\n",
              "      .colab-df-generate:hover {\n",
              "        background-color: #E2EBFA;\n",
              "        box-shadow: 0px 1px 2px rgba(60, 64, 67, 0.3), 0px 1px 3px 1px rgba(60, 64, 67, 0.15);\n",
              "        fill: #174EA6;\n",
              "      }\n",
              "\n",
              "      [theme=dark] .colab-df-generate {\n",
              "        background-color: #3B4455;\n",
              "        fill: #D2E3FC;\n",
              "      }\n",
              "\n",
              "      [theme=dark] .colab-df-generate:hover {\n",
              "        background-color: #434B5C;\n",
              "        box-shadow: 0px 1px 3px 1px rgba(0, 0, 0, 0.15);\n",
              "        filter: drop-shadow(0px 1px 2px rgba(0, 0, 0, 0.3));\n",
              "        fill: #FFFFFF;\n",
              "      }\n",
              "    </style>\n",
              "    <button class=\"colab-df-generate\" onclick=\"generateWithVariable('df1')\"\n",
              "            title=\"Generate code using this dataframe.\"\n",
              "            style=\"display:none;\">\n",
              "\n",
              "  <svg xmlns=\"http://www.w3.org/2000/svg\" height=\"24px\"viewBox=\"0 0 24 24\"\n",
              "       width=\"24px\">\n",
              "    <path d=\"M7,19H8.4L18.45,9,17,7.55,7,17.6ZM5,21V16.75L18.45,3.32a2,2,0,0,1,2.83,0l1.4,1.43a1.91,1.91,0,0,1,.58,1.4,1.91,1.91,0,0,1-.58,1.4L9.25,21ZM18.45,9,17,7.55Zm-12,3A5.31,5.31,0,0,0,4.9,8.1,5.31,5.31,0,0,0,1,6.5,5.31,5.31,0,0,0,4.9,4.9,5.31,5.31,0,0,0,6.5,1,5.31,5.31,0,0,0,8.1,4.9,5.31,5.31,0,0,0,12,6.5,5.46,5.46,0,0,0,6.5,12Z\"/>\n",
              "  </svg>\n",
              "    </button>\n",
              "    <script>\n",
              "      (() => {\n",
              "      const buttonEl =\n",
              "        document.querySelector('#id_2bae7427-2be5-4fd9-8c4d-30a73f77beee button.colab-df-generate');\n",
              "      buttonEl.style.display =\n",
              "        google.colab.kernel.accessAllowed ? 'block' : 'none';\n",
              "\n",
              "      buttonEl.onclick = () => {\n",
              "        google.colab.notebook.generateWithVariable('df1');\n",
              "      }\n",
              "      })();\n",
              "    </script>\n",
              "  </div>\n",
              "\n",
              "    </div>\n",
              "  </div>\n"
            ],
            "application/vnd.google.colaboratory.intrinsic+json": {
              "type": "dataframe",
              "variable_name": "df1",
              "summary": "{\n  \"name\": \"df1\",\n  \"rows\": 5378,\n  \"fields\": [\n    {\n      \"column\": \"mean\",\n      \"properties\": {\n        \"dtype\": \"number\",\n        \"std\": 0.7679192632280123,\n        \"min\": 1.0,\n        \"max\": 5.0,\n        \"num_unique_values\": 25,\n        \"samples\": [\n          3.6666666666666665,\n          4.666666666666667,\n          3.0\n        ],\n        \"semantic_type\": \"\",\n        \"description\": \"\"\n      }\n    },\n    {\n      \"column\": \"Age_group\",\n      \"properties\": {\n        \"dtype\": \"number\",\n        \"std\": 1,\n        \"min\": 1,\n        \"max\": 6,\n        \"num_unique_values\": 6,\n        \"samples\": [\n          6,\n          5,\n          3\n        ],\n        \"semantic_type\": \"\",\n        \"description\": \"\"\n      }\n    }\n  ]\n}"
            }
          },
          "metadata": {},
          "execution_count": 132
        }
      ]
    },
    {
      "cell_type": "markdown",
      "source": [
        "3. 그룹화하여 일원분산분석 수행"
      ],
      "metadata": {
        "id": "vVoKZ4mguUTp"
      }
    },
    {
      "cell_type": "code",
      "source": [
        "grouped_data = df1.groupby('Age_group')['mean'].apply(list)\n",
        "print(grouped_data)"
      ],
      "metadata": {
        "colab": {
          "base_uri": "https://localhost:8080/"
        },
        "id": "EdEmULGFES0q",
        "outputId": "c942667f-6e3e-4e72-9124-67ae547385b2"
      },
      "execution_count": 142,
      "outputs": [
        {
          "output_type": "stream",
          "name": "stdout",
          "text": [
            "Age_group\n",
            "1    [3.6666666666666665, 3.1666666666666665, 3.666...\n",
            "2    [2.6666666666666665, 2.6666666666666665, 3.5, ...\n",
            "3    [3.3333333333333335, 3.5, 3.0, 3.3333333333333...\n",
            "4    [4.0, 3.8333333333333335, 3.1666666666666665, ...\n",
            "5    [3.3333333333333335, 5.0, 2.8333333333333335, ...\n",
            "6    [3.0, 3.3333333333333335, 2.8333333333333335, ...\n",
            "Name: mean, dtype: object\n"
          ]
        }
      ]
    },
    {
      "cell_type": "code",
      "source": [
        "f_statistic, p_value = f_oneway(*grouped_data)\n",
        "print(\"일원분산분석(One-way ANOVA) 결과:\")\n",
        "print(\"F 통계량:\", f_statistic)\n",
        "print(\"p-value:\", p_value)"
      ],
      "metadata": {
        "colab": {
          "base_uri": "https://localhost:8080/"
        },
        "id": "MdHjg8aRGHhf",
        "outputId": "80f46d9f-0c18-4d91-c709-0c13cc184984"
      },
      "execution_count": 139,
      "outputs": [
        {
          "output_type": "stream",
          "name": "stdout",
          "text": [
            "일원분산분석(One-way ANOVA) 결과:\n",
            "F 통계량: 295.4738997581636\n",
            "p-value: 4.071667352940725e-280\n"
          ]
        }
      ]
    },
    {
      "cell_type": "markdown",
      "source": [
        "나머지 요인도 동일하게 수행"
      ],
      "metadata": {
        "id": "Qn-NnR7aHgFo"
      }
    },
    {
      "cell_type": "code",
      "source": [
        "df[['Q30_7', 'Q30_8', 'Q30_9', 'Q30_10', 'Q30_11']]\n",
        "df2 = df[['Q30_7', 'Q30_8', 'Q30_9', 'Q30_10', 'Q30_11']]\n",
        "df2 = np.mean(df2, axis=1)\n",
        "df2 = pd.concat([df2, agedata], axis=1)\n",
        "df2.columns = ['mean', 'Age_group']\n",
        "grouped_data = df2.groupby('Age_group')['mean'].apply(list)\n",
        "f_statistic, p_value = f_oneway(*grouped_data)\n",
        "print(\"일원분산분석(One-way ANOVA) 결과:\")\n",
        "print(\"F 통계량:\", f_statistic)\n",
        "print(\"p-value:\", p_value)"
      ],
      "metadata": {
        "colab": {
          "base_uri": "https://localhost:8080/"
        },
        "id": "9QXh1POfHj6s",
        "outputId": "039b437f-e107-49d0-e925-d7081dc23110"
      },
      "execution_count": 145,
      "outputs": [
        {
          "output_type": "stream",
          "name": "stdout",
          "text": [
            "일원분산분석(One-way ANOVA) 결과:\n",
            "F 통계량: 161.12964835503425\n",
            "p-value: 4.8885675778409014e-160\n"
          ]
        }
      ]
    },
    {
      "cell_type": "code",
      "source": [
        "df[['Q30_12', 'Q30_13', 'Q30_14', 'Q30_15']]\n",
        "df3 = df[['Q30_12', 'Q30_13', 'Q30_14', 'Q30_15']]\n",
        "df3 = np.mean(df3, axis=1)\n",
        "df3 = pd.concat([df3, agedata], axis=1)\n",
        "df3.columns = ['mean', 'Age_group']\n",
        "grouped_data = df3.groupby('Age_group')['mean'].apply(list)\n",
        "f_statistic, p_value = f_oneway(*grouped_data)\n",
        "print(\"일원분산분석(One-way ANOVA) 결과:\")\n",
        "print(\"F 통계량:\", f_statistic)\n",
        "print(\"p-value:\", p_value)"
      ],
      "metadata": {
        "colab": {
          "base_uri": "https://localhost:8080/"
        },
        "id": "RyZZWTPSLuy4",
        "outputId": "3facf04f-93d6-429c-cd17-a2870cf53295"
      },
      "execution_count": 146,
      "outputs": [
        {
          "output_type": "stream",
          "name": "stdout",
          "text": [
            "일원분산분석(One-way ANOVA) 결과:\n",
            "F 통계량: 218.26449684477134\n",
            "p-value: 1.3296106378764662e-212\n"
          ]
        }
      ]
    },
    {
      "cell_type": "code",
      "source": [
        "df[['Q30_16', 'Q30_17', 'Q30_18']]\n",
        "df4 = df[['Q30_16', 'Q30_17', 'Q30_18']]\n",
        "df4 = np.mean(df4, axis=1)\n",
        "df4 = pd.concat([df4, agedata], axis=1)\n",
        "df4.columns = ['mean', 'Age_group']\n",
        "grouped_data = df4.groupby('Age_group')['mean'].apply(list)\n",
        "f_statistic, p_value = f_oneway(*grouped_data)\n",
        "print(\"일원분산분석(One-way ANOVA) 결과:\")\n",
        "print(\"F 통계량:\", f_statistic)\n",
        "print(\"p-value:\", p_value)"
      ],
      "metadata": {
        "colab": {
          "base_uri": "https://localhost:8080/"
        },
        "id": "zN6t6T10MohP",
        "outputId": "928be800-8f20-4ef1-f0e8-065b59664807"
      },
      "execution_count": 147,
      "outputs": [
        {
          "output_type": "stream",
          "name": "stdout",
          "text": [
            "일원분산분석(One-way ANOVA) 결과:\n",
            "F 통계량: 286.63949479560245\n",
            "p-value: 1.3852638921633942e-272\n"
          ]
        }
      ]
    },
    {
      "cell_type": "code",
      "source": [
        "df[['Q30_19', 'Q30_20', 'Q30_21']]\n",
        "df5 = df[['Q30_19', 'Q30_20', 'Q30_21']]\n",
        "df5 = np.mean(df5, axis=1)\n",
        "df5 = pd.concat([df5, agedata], axis=1)\n",
        "df5.columns = ['mean', 'Age_group']\n",
        "grouped_data = df5.groupby('Age_group')['mean'].apply(list)\n",
        "f_statistic, p_value = f_oneway(*grouped_data)\n",
        "print(\"일원분산분석(One-way ANOVA) 결과:\")\n",
        "print(\"F 통계량:\", f_statistic)\n",
        "print(\"p-value:\", p_value)"
      ],
      "metadata": {
        "colab": {
          "base_uri": "https://localhost:8080/"
        },
        "id": "qxTX0fbqMx9l",
        "outputId": "98c9987c-858f-4304-f764-f11a28638995"
      },
      "execution_count": 148,
      "outputs": [
        {
          "output_type": "stream",
          "name": "stdout",
          "text": [
            "일원분산분석(One-way ANOVA) 결과:\n",
            "F 통계량: 137.34375986604488\n",
            "p-value: 1.880642751123693e-137\n"
          ]
        }
      ]
    },
    {
      "cell_type": "code",
      "source": [
        "df[['Q30_22', 'Q30_23', 'Q30_24']]\n",
        "df6 = df[['Q30_22', 'Q30_23', 'Q30_24']]\n",
        "df6 = np.mean(df6, axis=1)\n",
        "df6 = pd.concat([df6, agedata], axis=1)\n",
        "df6.columns = ['mean', 'Age_group']\n",
        "grouped_data = df6.groupby('Age_group')['mean'].apply(list)\n",
        "f_statistic, p_value = f_oneway(*grouped_data)\n",
        "print(\"일원분산분석(One-way ANOVA) 결과:\")\n",
        "print(\"F 통계량:\", f_statistic)\n",
        "print(\"p-value:\", p_value)"
      ],
      "metadata": {
        "colab": {
          "base_uri": "https://localhost:8080/"
        },
        "id": "wKbbWaq1NBBs",
        "outputId": "40fa4645-cdcc-410e-dada-5bbf9be4a44d"
      },
      "execution_count": 149,
      "outputs": [
        {
          "output_type": "stream",
          "name": "stdout",
          "text": [
            "일원분산분석(One-way ANOVA) 결과:\n",
            "F 통계량: 258.0101030066443\n",
            "p-value: 7.695965441062569e-248\n"
          ]
        }
      ]
    }
  ]
}